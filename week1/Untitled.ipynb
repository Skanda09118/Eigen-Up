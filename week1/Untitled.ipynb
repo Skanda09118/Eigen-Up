{
 "cells": [
  {
   "cell_type": "code",
   "execution_count": 85,
   "id": "3ca54a58",
   "metadata": {},
   "outputs": [],
   "source": [
    "def gaussian_elimination(A, b):\n",
    "    # A is a 2D list (matrix), b is RHS vector\n",
    "    # Returns augmented matrix in REF form\n",
    "    # implement forward elimination\n",
    "    i=0\n",
    "    b=b[::-1]\n",
    "    while b!=[]:\n",
    "        a = b.pop()\n",
    "        A[i].append(a)\n",
    "        i+=1\n",
    "    for i in range(len(A)):\n",
    "        if A[i][i]==0:\n",
    "            for m in range(i+1,len(A)):\n",
    "                if A[m][i]!=0:\n",
    "                    A[i],A[m]=A[m],A[i]\n",
    "                    break\n",
    "        for j in range(i,len(A)+1):\n",
    "            A[i][j]=A[i][j]/A[i][i]\n",
    "        for l in range(i+1,len(A)):\n",
    "            factor=A[l][i]\n",
    "            for n in range(i,len(A)+1):\n",
    "                A[l][n]-=factor*A[i][n]\n",
    "    return A"
   ]
  },
  {
   "cell_type": "code",
   "execution_count": 86,
   "id": "bee46b29",
   "metadata": {},
   "outputs": [
    {
     "data": {
      "text/plain": [
       "[[1.0, 1.0, -1.0, 8.0], [0.0, 1.0, -1.0, 13.0], [0.0, 0.0, 1.0, -26.0]]"
      ]
     },
     "execution_count": 86,
     "metadata": {},
     "output_type": "execute_result"
    }
   ],
   "source": [
    "gaussian_elimination([[2, 1, -1], [-3, -1, 2], [-2, 1, 2]],[8, -11, -3])"
   ]
  },
  {
   "cell_type": "code",
   "execution_count": 12,
   "id": "72a52e7e",
   "metadata": {},
   "outputs": [],
   "source": [
    "def matrix_multiply(A, B):\n",
    "    # Multiply two matrices A and B\n",
    "    na1=len(A[0])\n",
    "    nb1=len(B)\n",
    "    if na1!=nb1:\n",
    "        raise ValueError(\"Invalid dimensions of matrix\")\n",
    "    na2=len(A)\n",
    "    nb2=len(B[0])\n",
    "    m=[]\n",
    "    for i in range(na2):\n",
    "        r=[]\n",
    "        for j in range(len(B[0])):\n",
    "            r.append(0)\n",
    "        m.append(r)\n",
    "    for i in range(na2):\n",
    "        for j in range(nb2):\n",
    "            for r in range(len(B)):\n",
    "                m[i][j]+=A[i][r]*B[r][j]\n",
    "    return m"
   ]
  },
  {
   "cell_type": "code",
   "execution_count": 13,
   "id": "0409ace4",
   "metadata": {},
   "outputs": [
    {
     "data": {
      "text/plain": [
       "[[109, 118, 122], [95, 102, 105]]"
      ]
     },
     "execution_count": 13,
     "metadata": {},
     "output_type": "execute_result"
    }
   ],
   "source": [
    "matrix_multiply([[3,1],[4,5]],[[6,7],[0,0]])"
   ]
  },
  {
   "cell_type": "code",
   "execution_count": 14,
   "id": "4a032668",
   "metadata": {},
   "outputs": [],
   "source": [
    "def inverse_2x2(matrix):\n",
    "    # Return the inverse of a 2x2 matrix\n",
    "    M=matrix\n",
    "    [[q,s],[r,t]]=M\n",
    "    #Handling non-invertible cases\n",
    "    l= q*t-s*r\n",
    "    if l==0:raise ValueError(\"This matrix is non invertible\")\n",
    "    Minv=[[t/l,-s/l],[-r/l,q/l]]                             #Formula specifically for 2 cross 2 matrices\n",
    "    return Minv"
   ]
  },
  {
   "cell_type": "code",
   "execution_count": 15,
   "id": "1ee22ecf",
   "metadata": {},
   "outputs": [
    {
     "data": {
      "text/plain": [
       "[[0.6, -0.7], [-0.2, 0.4]]"
      ]
     },
     "execution_count": 15,
     "metadata": {},
     "output_type": "execute_result"
    }
   ],
   "source": [
    "inverse_2x2([[4,7],[2,6]])"
   ]
  },
  {
   "cell_type": "code",
   "execution_count": 72,
   "id": "c698fbd6",
   "metadata": {},
   "outputs": [],
   "source": [
    "def lu_decomposition(A):\n",
    "    # Return L and U matrices\n",
    "    I=[[]for i in range(len(A))]\n",
    "    for r in range(len(A)):\n",
    "        for j in range(len(A)):\n",
    "            if r==j:I[r].append(1)\n",
    "            else:I[r].append(0)\n",
    "    for i in range(len(A)):\n",
    "        if A[i][i]==0:\n",
    "            for m in range(i+1,len(A)):\n",
    "                if A[m][i]!=0:\n",
    "                    A[i],A[m]=A[m],A[i]\n",
    "                    break\n",
    "        for l in range(i+1,len(A)):\n",
    "            factor=A[l][i]/A[i][i]\n",
    "            I[l][i]=factor\n",
    "            for n in range(i,len(A[0])):\n",
    "                A[l][n]-=factor*A[i][n]\n",
    "    return [I,A]"
   ]
  },
  {
   "cell_type": "code",
   "execution_count": 73,
   "id": "bf5bf453",
   "metadata": {},
   "outputs": [
    {
     "data": {
      "text/plain": [
       "[[[1, 0, 0], [-1.5, 1, 0], [-1.0, 4.0, 1]],\n",
       " [[2, 1, -1], [0.0, 0.5, 0.5], [0.0, 0.0, -1.0]]]"
      ]
     },
     "execution_count": 73,
     "metadata": {},
     "output_type": "execute_result"
    }
   ],
   "source": [
    "lu_decomposition([[2, 1, -1], [-3, -1, 2], [-2, 1, 2]])"
   ]
  },
  {
   "cell_type": "code",
   "execution_count": 87,
   "id": "29f14ba1",
   "metadata": {},
   "outputs": [],
   "source": [
    "def solve_lu(A, b):\n",
    "    # Use LU decomposition to solve Ax = b\n",
    "    [L,U]=lu_decomposition(A)\n",
    "    y=[0]*len(b)\n",
    "    for i in range(len(b)):\n",
    "        y[i]=b[i]-sum(L[i][j]*y[j] for j in range(i))\n",
    "    x=[0]*len(y)\n",
    "    for i in reversed(range(len(y))):\n",
    "        x[i]=(y[i]-sum(U[i][j]*y[j] for j in range(i+1,len(y))))/U[i][i]\n",
    "    return x"
   ]
  },
  {
   "cell_type": "code",
   "execution_count": 88,
   "id": "77387352",
   "metadata": {},
   "outputs": [
    {
     "data": {
      "text/plain": [
       "[4.0, 1.0, -1.0]"
      ]
     },
     "execution_count": 88,
     "metadata": {},
     "output_type": "execute_result"
    }
   ],
   "source": [
    "solve_lu([[2, 1, -1], [-3, -1, 2], [-2, 1, 2]],[8, -11, -3])"
   ]
  }
 ],
 "metadata": {
  "kernelspec": {
   "display_name": "Python 3 (ipykernel)",
   "language": "python",
   "name": "python3"
  },
  "language_info": {
   "codemirror_mode": {
    "name": "ipython",
    "version": 3
   },
   "file_extension": ".py",
   "mimetype": "text/x-python",
   "name": "python",
   "nbconvert_exporter": "python",
   "pygments_lexer": "ipython3",
   "version": "3.11.11"
  }
 },
 "nbformat": 4,
 "nbformat_minor": 5
}
