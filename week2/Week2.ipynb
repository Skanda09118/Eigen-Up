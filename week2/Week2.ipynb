{
 "cells": [
  {
   "cell_type": "code",
   "execution_count": 15,
   "id": "5534bf4c",
   "metadata": {},
   "outputs": [],
   "source": [
    "def elimination_matrix(n, i, j, multiplier):\n",
    "    \"\"\"\n",
    "    Creates an n x n elimination matrix E that subtracts `multiplier` times row i from row j.\n",
    "\n",
    "    Parameters:\n",
    "    - n: Size of the square matrix\n",
    "    - i: Source row index (0-based)\n",
    "    - j: Target row index (0-based)\n",
    "    - multiplier: Value to subtract (E[j][i] = -multiplier)\n",
    "\n",
    "    Returns:\n",
    "    - Matrix E (list of lists)\n",
    "    \"\"\"\n",
    "    E=[[]for i in range(n)]\n",
    "    for r in range(n):\n",
    "        for j in range(n):\n",
    "            if r==j:E[r].append(1)\n",
    "            else:E[r].append(0)\n",
    "    print(E)\n",
    "    E[j][i]=-multiplier\n",
    "    print(E)"
   ]
  },
  {
   "cell_type": "code",
   "execution_count": 16,
   "id": "551b10c4",
   "metadata": {},
   "outputs": [
    {
     "name": "stdout",
     "output_type": "stream",
     "text": [
      "[[1, 0, 0], [0, 1, 0], [0, 0, 1]]\n",
      "[[1, 0, 0], [0, 1, 0], [-1.5, 0, 1]]\n"
     ]
    }
   ],
   "source": [
    "elimination_matrix(3, 0, 1, 1.5)"
   ]
  },
  {
   "cell_type": "code",
   "execution_count": 7,
   "id": "92b02a98",
   "metadata": {},
   "outputs": [],
   "source": [
    "def forward_substitution(L, b):\n",
    "    \"\"\"\n",
    "    Solves Lx = b for x using forward substitution.\n",
    "\n",
    "    Parameters:\n",
    "    - L: Lower triangular matrix (list of lists)\n",
    "    - b: Right-hand side vector\n",
    "\n",
    "    Returns:\n",
    "    - Solution vector x\n",
    "    \"\"\"\n",
    "    x=[None]*len(b)\n",
    "    for i in range(len(b)):\n",
    "        x[i]=b[i]-sum(L[i][j]*x[j] for j in range(i))\n",
    "    return x"
   ]
  },
  {
   "cell_type": "code",
   "execution_count": 8,
   "id": "ab25ffab",
   "metadata": {},
   "outputs": [
    {
     "data": {
      "text/plain": [
       "[4, -7, -5]"
      ]
     },
     "execution_count": 8,
     "metadata": {},
     "output_type": "execute_result"
    }
   ],
   "source": [
    "forward_substitution([[2, 0, 0], [3, 1, 0], [1, -1, 1]],[4, 5, 6])"
   ]
  },
  {
   "cell_type": "code",
   "execution_count": 9,
   "id": "21ddcc99",
   "metadata": {},
   "outputs": [],
   "source": [
    "def back_substitution(U, b):\n",
    "    \"\"\"\n",
    "    Solves Ux = b for x using back substitution.\n",
    "\n",
    "    Parameters:\n",
    "    - U: Upper triangular matrix (list of lists)\n",
    "    - b: Right-hand side vector\n",
    "\n",
    "    Returns:\n",
    "    - Solution vector x\n",
    "    \"\"\"\n",
    "    x=[None]*len(b)\n",
    "    for i in range(len(b)):\n",
    "        l=len(b)-i-1\n",
    "        x[l]=(b[l]-sum(U[l][j]*x[j] for j in range(l+1,len(b))))/U[i][i]\n",
    "    return x"
   ]
  },
  {
   "cell_type": "code",
   "execution_count": 10,
   "id": "1c55e446",
   "metadata": {},
   "outputs": [
    {
     "data": {
      "text/plain": [
       "[-1.5, -2.0, 2.0]"
      ]
     },
     "execution_count": 10,
     "metadata": {},
     "output_type": "execute_result"
    }
   ],
   "source": [
    "back_substitution([[2, -1, 3], [0, 1, 4], [0, 0, 2]],[5, 6, 4])"
   ]
  },
  {
   "cell_type": "code",
   "execution_count": 28,
   "id": "111c5a53",
   "metadata": {},
   "outputs": [],
   "source": [
    "def recurrence_loop(u0, a, b, N):\n",
    "    \"\"\"\n",
    "    Computes the recurrence: u_{n+1} = a * u_n + b\n",
    "\n",
    "    Parameters:\n",
    "    - u0: Initial value\n",
    "    - a: Multiplier\n",
    "    - b: Constant addition\n",
    "    - N: Number of iterations\n",
    "\n",
    "    Returns:\n",
    "    - List of values [u0, u1, ..., uN]\n",
    "    \"\"\"\n",
    "    L=[u0]\n",
    "    if N==0:return L\n",
    "    if N==1:return [u0,a*u0+b]\n",
    "    for n in range(1,N):\n",
    "        u_n1 = a*L[-1]+b\n",
    "        L.append(u_n1)\n",
    "    return L"
   ]
  },
  {
   "cell_type": "code",
   "execution_count": 29,
   "id": "c2603bb7",
   "metadata": {},
   "outputs": [
    {
     "data": {
      "text/plain": [
       "[1,\n",
       " 2.5,\n",
       " 3.25,\n",
       " 3.625,\n",
       " 3.8125,\n",
       " 3.90625,\n",
       " 3.953125,\n",
       " 3.9765625,\n",
       " 3.98828125,\n",
       " 3.994140625]"
      ]
     },
     "execution_count": 29,
     "metadata": {},
     "output_type": "execute_result"
    }
   ],
   "source": [
    "recurrence_loop(1,0.5,2,10)"
   ]
  }
 ],
 "metadata": {
  "kernelspec": {
   "display_name": "Python 3 (ipykernel)",
   "language": "python",
   "name": "python3"
  },
  "language_info": {
   "codemirror_mode": {
    "name": "ipython",
    "version": 3
   },
   "file_extension": ".py",
   "mimetype": "text/x-python",
   "name": "python",
   "nbconvert_exporter": "python",
   "pygments_lexer": "ipython3",
   "version": "3.11.11"
  }
 },
 "nbformat": 4,
 "nbformat_minor": 5
}
